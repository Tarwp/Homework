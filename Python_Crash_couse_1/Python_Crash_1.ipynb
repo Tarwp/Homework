{
  "nbformat": 4,
  "nbformat_minor": 0,
  "metadata": {
    "colab": {
      "name": "Python_Crash_1.ipynb",
      "provenance": []
    },
    "kernelspec": {
      "name": "python3",
      "display_name": "Python 3"
    }
  },
  "cells": [
    {
      "cell_type": "code",
      "metadata": {
        "id": "4xIAOVJjos3A",
        "colab_type": "code",
        "colab": {
          "base_uri": "https://localhost:8080/",
          "height": 34
        },
        "outputId": "af849fc4-bc0a-459d-c064-fe8c7818ec4f"
      },
      "source": [
        "##1\n",
        "2345%13"
      ],
      "execution_count": 9,
      "outputs": [
        {
          "output_type": "execute_result",
          "data": {
            "text/plain": [
              "5"
            ]
          },
          "metadata": {
            "tags": []
          },
          "execution_count": 9
        }
      ]
    },
    {
      "cell_type": "code",
      "metadata": {
        "id": "I3UYokHBvh6V",
        "colab_type": "code",
        "colab": {
          "base_uri": "https://localhost:8080/",
          "height": 34
        },
        "outputId": "5429b420-526a-42c3-e59f-436db87d7bef"
      },
      "source": [
        "##2\n",
        "1567//17"
      ],
      "execution_count": 10,
      "outputs": [
        {
          "output_type": "execute_result",
          "data": {
            "text/plain": [
              "92"
            ]
          },
          "metadata": {
            "tags": []
          },
          "execution_count": 10
        }
      ]
    },
    {
      "cell_type": "code",
      "metadata": {
        "id": "m7wEhntVwGyN",
        "colab_type": "code",
        "colab": {
          "base_uri": "https://localhost:8080/",
          "height": 51
        },
        "outputId": "456bf018-0a7a-4d11-8152-7d00eb72968c"
      },
      "source": [
        "##3\n",
        "FirstName = 10\n",
        "Firstname = 5\n",
        "print(FirstName)\n",
        "print(Firstname)\n"
      ],
      "execution_count": 20,
      "outputs": [
        {
          "output_type": "stream",
          "text": [
            "10\n",
            "5\n"
          ],
          "name": "stdout"
        }
      ]
    },
    {
      "cell_type": "code",
      "metadata": {
        "id": "aOYB4KLawnUy",
        "colab_type": "code",
        "colab": {
          "base_uri": "https://localhost:8080/",
          "height": 129
        },
        "outputId": "d1888ccb-73e5-4257-944a-9ef1d2f64307"
      },
      "source": [
        "##4\n",
        "13Friday = 1\n",
        "print(13Friday)\n",
        "## คำตอบไม่ถูกต้อง"
      ],
      "execution_count": 15,
      "outputs": [
        {
          "output_type": "error",
          "ename": "SyntaxError",
          "evalue": "ignored",
          "traceback": [
            "\u001b[0;36m  File \u001b[0;32m\"<ipython-input-15-b7a4fe0f1ec6>\"\u001b[0;36m, line \u001b[0;32m2\u001b[0m\n\u001b[0;31m    13Friday = 1\u001b[0m\n\u001b[0m           ^\u001b[0m\n\u001b[0;31mSyntaxError\u001b[0m\u001b[0;31m:\u001b[0m invalid syntax\n"
          ]
        }
      ]
    },
    {
      "cell_type": "code",
      "metadata": {
        "id": "SD8RBsa2wxqj",
        "colab_type": "code",
        "colab": {
          "base_uri": "https://localhost:8080/",
          "height": 34
        },
        "outputId": "c9129332-9711-46cd-9a3a-ff06c974a21d"
      },
      "source": [
        "##5\n",
        "print('2345%13 = {}'.format(2345%13))"
      ],
      "execution_count": 16,
      "outputs": [
        {
          "output_type": "stream",
          "text": [
            "2345%13 = 5\n"
          ],
          "name": "stdout"
        }
      ]
    },
    {
      "cell_type": "code",
      "metadata": {
        "id": "78YGQE22xq0H",
        "colab_type": "code",
        "colab": {
          "base_uri": "https://localhost:8080/",
          "height": 34
        },
        "outputId": "c99d9201-3ab1-4328-e6f1-892a006ea0cd"
      },
      "source": [
        "##5\n",
        "print('1567//17 = {}'.format(1567//17))"
      ],
      "execution_count": 17,
      "outputs": [
        {
          "output_type": "stream",
          "text": [
            "1567//17 = 92\n"
          ],
          "name": "stdout"
        }
      ]
    },
    {
      "cell_type": "code",
      "metadata": {
        "id": "D3sUWCkOx8Zz",
        "colab_type": "code",
        "colab": {
          "base_uri": "https://localhost:8080/",
          "height": 34
        },
        "outputId": "cf94ca60-c892-44b5-f877-3560b2c22c36"
      },
      "source": [
        "##6\n",
        "fun = lambda x: x/3\n",
        "print(fun(3))"
      ],
      "execution_count": 21,
      "outputs": [
        {
          "output_type": "stream",
          "text": [
            "1.0\n"
          ],
          "name": "stdout"
        }
      ]
    },
    {
      "cell_type": "code",
      "metadata": {
        "id": "CUGwKCRYyRAx",
        "colab_type": "code",
        "colab": {
          "base_uri": "https://localhost:8080/",
          "height": 34
        },
        "outputId": "06a46e34-8634-4654-cebd-15ad02d990e7"
      },
      "source": [
        "##7\n",
        "def avgfun(w, x, y, z) :\n",
        "  avg = (w + x + y + z)/4\n",
        "  return avg\n",
        "print(avgfun(10, 20, 30, 40))"
      ],
      "execution_count": 25,
      "outputs": [
        {
          "output_type": "stream",
          "text": [
            "25.0\n"
          ],
          "name": "stdout"
        }
      ]
    },
    {
      "cell_type": "code",
      "metadata": {
        "id": "PVetIlwky9wR",
        "colab_type": "code",
        "colab": {
          "base_uri": "https://localhost:8080/",
          "height": 34
        },
        "outputId": "7c3ff6aa-ed75-445b-d2ac-88c86481f1a6"
      },
      "source": [
        "##8\n",
        "avg2 = lambda x, y, z: (x+y+z)/3\n",
        "print(avg2(10, 20, 30))"
      ],
      "execution_count": 27,
      "outputs": [
        {
          "output_type": "stream",
          "text": [
            "20.0\n"
          ],
          "name": "stdout"
        }
      ]
    },
    {
      "cell_type": "code",
      "metadata": {
        "id": "WWCXmciyzeci",
        "colab_type": "code",
        "colab": {}
      },
      "source": [
        "##Quiz 3\n",
        "bio = ['Watcharapol', 'Patisang', 25]"
      ],
      "execution_count": 46,
      "outputs": []
    },
    {
      "cell_type": "code",
      "metadata": {
        "id": "bC202kFrz8__",
        "colab_type": "code",
        "colab": {}
      },
      "source": [
        "del bio[2]"
      ],
      "execution_count": 47,
      "outputs": []
    },
    {
      "cell_type": "code",
      "metadata": {
        "id": "m8xodeDP0Nb_",
        "colab_type": "code",
        "colab": {
          "base_uri": "https://localhost:8080/",
          "height": 34
        },
        "outputId": "cde66f99-a79d-49e1-d089-90534a179ff9"
      },
      "source": [
        "bio"
      ],
      "execution_count": 48,
      "outputs": [
        {
          "output_type": "execute_result",
          "data": {
            "text/plain": [
              "['Watcharapol', 'Patisang']"
            ]
          },
          "metadata": {
            "tags": []
          },
          "execution_count": 48
        }
      ]
    },
    {
      "cell_type": "code",
      "metadata": {
        "id": "r0pOIjHE0Rgh",
        "colab_type": "code",
        "colab": {
          "base_uri": "https://localhost:8080/",
          "height": 34
        },
        "outputId": "51aecab4-a24d-4bb6-acb6-0c1798ed0859"
      },
      "source": [
        "bio.insert(0, 15)\n",
        "bio"
      ],
      "execution_count": 49,
      "outputs": [
        {
          "output_type": "execute_result",
          "data": {
            "text/plain": [
              "[15, 'Watcharapol', 'Patisang']"
            ]
          },
          "metadata": {
            "tags": []
          },
          "execution_count": 49
        }
      ]
    },
    {
      "cell_type": "code",
      "metadata": {
        "id": "7SN-Rzrq0WO2",
        "colab_type": "code",
        "colab": {}
      },
      "source": [
        "bio.append(174)\n",
        "bio.append(70)"
      ],
      "execution_count": 50,
      "outputs": []
    },
    {
      "cell_type": "code",
      "metadata": {
        "id": "FIePuSjx0siR",
        "colab_type": "code",
        "colab": {
          "base_uri": "https://localhost:8080/",
          "height": 34
        },
        "outputId": "c17471c4-9b21-48cd-c73b-2887065c5d11"
      },
      "source": [
        "bio"
      ],
      "execution_count": 51,
      "outputs": [
        {
          "output_type": "execute_result",
          "data": {
            "text/plain": [
              "[15, 'Watcharapol', 'Patisang', 174, 70]"
            ]
          },
          "metadata": {
            "tags": []
          },
          "execution_count": 51
        }
      ]
    },
    {
      "cell_type": "code",
      "metadata": {
        "id": "G_D2Rouw1B4O",
        "colab_type": "code",
        "colab": {
          "base_uri": "https://localhost:8080/",
          "height": 34
        },
        "outputId": "b520718a-6cc8-4bb1-edd4-8ad7f009402d"
      },
      "source": [
        "print(bio[2:])"
      ],
      "execution_count": 52,
      "outputs": [
        {
          "output_type": "stream",
          "text": [
            "['Patisang', 174, 70]\n"
          ],
          "name": "stdout"
        }
      ]
    },
    {
      "cell_type": "code",
      "metadata": {
        "id": "CIxhFapj1FUs",
        "colab_type": "code",
        "colab": {
          "base_uri": "https://localhost:8080/",
          "height": 34
        },
        "outputId": "340d6c0e-1062-42e1-de4b-173354f274d4"
      },
      "source": [
        "##Quiz4\n",
        "a = [[[1,3],[3,4]],[5,[5,6],[7,8]]]\n",
        "a[1][1][1]"
      ],
      "execution_count": 53,
      "outputs": [
        {
          "output_type": "execute_result",
          "data": {
            "text/plain": [
              "6"
            ]
          },
          "metadata": {
            "tags": []
          },
          "execution_count": 53
        }
      ]
    },
    {
      "cell_type": "code",
      "metadata": {
        "id": "qwh0ze341r6s",
        "colab_type": "code",
        "colab": {
          "base_uri": "https://localhost:8080/",
          "height": 34
        },
        "outputId": "40474825-8f15-41fc-ff69-15d5d7dc8021"
      },
      "source": [
        "player = [['C', 'Ronaldo', 35], ['L', 'Messi', 33], ['L', 'Suarez', 33], ['JR', 'Neymar', 28]]\n",
        "print(player)"
      ],
      "execution_count": 55,
      "outputs": [
        {
          "output_type": "stream",
          "text": [
            "[['C', 'Ronaldo', 35], ['L', 'Messi', 33], ['L', 'Suarez', 33], ['JR', 'Neymar', 28]]\n"
          ],
          "name": "stdout"
        }
      ]
    },
    {
      "cell_type": "code",
      "metadata": {
        "id": "ebfVXzgn4lmx",
        "colab_type": "code",
        "colab": {}
      },
      "source": [
        "del player[3]"
      ],
      "execution_count": 56,
      "outputs": []
    },
    {
      "cell_type": "code",
      "metadata": {
        "id": "lkvYCtkd4r83",
        "colab_type": "code",
        "colab": {
          "base_uri": "https://localhost:8080/",
          "height": 34
        },
        "outputId": "eade7710-6117-48bd-f10f-7c71741fcc5a"
      },
      "source": [
        "print(player)"
      ],
      "execution_count": 57,
      "outputs": [
        {
          "output_type": "stream",
          "text": [
            "[['C', 'Ronaldo', 35], ['L', 'Messi', 33], ['L', 'Suarez', 33]]\n"
          ],
          "name": "stdout"
        }
      ]
    },
    {
      "cell_type": "code",
      "metadata": {
        "id": "PsWhtJvl4r_-",
        "colab_type": "code",
        "colab": {}
      },
      "source": [
        "player.insert(0, ['K', 'Benzema', 30])"
      ],
      "execution_count": 58,
      "outputs": []
    },
    {
      "cell_type": "code",
      "metadata": {
        "id": "TuoW3_Gn5B05",
        "colab_type": "code",
        "colab": {
          "base_uri": "https://localhost:8080/",
          "height": 34
        },
        "outputId": "a1dd2f18-7e7c-46ac-931d-228b8b13186d"
      },
      "source": [
        "print(player)"
      ],
      "execution_count": 59,
      "outputs": [
        {
          "output_type": "stream",
          "text": [
            "[['K', 'Benzema', 30], ['C', 'Ronaldo', 35], ['L', 'Messi', 33], ['L', 'Suarez', 33]]\n"
          ],
          "name": "stdout"
        }
      ]
    },
    {
      "cell_type": "code",
      "metadata": {
        "id": "wQ8Z4f-G5I_Y",
        "colab_type": "code",
        "colab": {}
      },
      "source": [
        "player[1][2] += 10"
      ],
      "execution_count": 61,
      "outputs": []
    },
    {
      "cell_type": "code",
      "metadata": {
        "id": "RtjGWf-m5c51",
        "colab_type": "code",
        "colab": {
          "base_uri": "https://localhost:8080/",
          "height": 34
        },
        "outputId": "054e76b4-c913-4d9b-b428-6623cc666133"
      },
      "source": [
        "print(player)"
      ],
      "execution_count": 62,
      "outputs": [
        {
          "output_type": "stream",
          "text": [
            "[['K', 'Benzema', 30], ['C', 'Ronaldo', 45], ['L', 'Messi', 33], ['L', 'Suarez', 33]]\n"
          ],
          "name": "stdout"
        }
      ]
    },
    {
      "cell_type": "code",
      "metadata": {
        "id": "Adu6VpoN50gE",
        "colab_type": "code",
        "colab": {
          "base_uri": "https://localhost:8080/",
          "height": 34
        },
        "outputId": "d8379053-9770-4d5e-aea2-5b99f330dead"
      },
      "source": [
        "##Quiz 5\n",
        "lst = [1,2,3,4,5,6,7,8,9,10]\n",
        "lstpow = map(lambda x: x**2, lst)\n",
        "print(list(lstpow))"
      ],
      "execution_count": 67,
      "outputs": [
        {
          "output_type": "stream",
          "text": [
            "[1, 4, 9, 16, 25, 36, 49, 64, 81, 100]\n"
          ],
          "name": "stdout"
        }
      ]
    },
    {
      "cell_type": "code",
      "metadata": {
        "id": "pwalthPU6tDQ",
        "colab_type": "code",
        "colab": {
          "base_uri": "https://localhost:8080/",
          "height": 34
        },
        "outputId": "0442f6a0-5a2b-4666-d690-82ff78a5bee9"
      },
      "source": [
        "def funcpow(x) :\n",
        "  return x**2\n",
        "print(list(map(funcpow, lst)))"
      ],
      "execution_count": 68,
      "outputs": [
        {
          "output_type": "stream",
          "text": [
            "[1, 4, 9, 16, 25, 36, 49, 64, 81, 100]\n"
          ],
          "name": "stdout"
        }
      ]
    },
    {
      "cell_type": "code",
      "metadata": {
        "id": "sn7-bC0x7K58",
        "colab_type": "code",
        "colab": {
          "base_uri": "https://localhost:8080/",
          "height": 34
        },
        "outputId": "00b9bf2b-8733-4a4c-b7b2-162d20f9f4bf"
      },
      "source": [
        "##Quiz 6\n",
        "lst = [1,2,3,4,5]\n",
        "lst2 = [(x*2)-1 for x in lst]\n",
        "print(lst2)"
      ],
      "execution_count": 69,
      "outputs": [
        {
          "output_type": "stream",
          "text": [
            "[1, 3, 5, 7, 9]\n"
          ],
          "name": "stdout"
        }
      ]
    },
    {
      "cell_type": "code",
      "metadata": {
        "id": "JpcE9Nai8IHA",
        "colab_type": "code",
        "colab": {
          "base_uri": "https://localhost:8080/",
          "height": 34
        },
        "outputId": "dc7d9c51-c779-4764-b7d8-3f51dd789757"
      },
      "source": [
        "lst = [1,2,3,4,5,6,7,8,9,10,11,12,13]\n",
        "lst3 = [i**3 for i in lst if i%3 != 0]\n",
        "print(lst3)"
      ],
      "execution_count": 73,
      "outputs": [
        {
          "output_type": "stream",
          "text": [
            "[1, 8, 64, 125, 343, 512, 1000, 1331, 2197]\n"
          ],
          "name": "stdout"
        }
      ]
    },
    {
      "cell_type": "code",
      "metadata": {
        "id": "R2uTk9HP88Xk",
        "colab_type": "code",
        "colab": {
          "base_uri": "https://localhost:8080/",
          "height": 51
        },
        "outputId": "523193d9-f46f-4c86-e649-40d64552099f"
      },
      "source": [
        "stuscore = int(input('Insert Score :'))\n",
        "if stuscore >= 80 :\n",
        "  print('Grade : A')\n",
        "elif stuscore > 70:\n",
        "  print('Grade : B')\n",
        "elif stuscore > 60:\n",
        "  print('Grade : C')\n",
        "elif stuscore > 50:\n",
        "  print('Grade : D')\n",
        "elif stuscore < 50 :\n",
        "  print('Grade : F')"
      ],
      "execution_count": 86,
      "outputs": [
        {
          "output_type": "stream",
          "text": [
            "Insert Score :78\n",
            "Grade : B\n"
          ],
          "name": "stdout"
        }
      ]
    },
    {
      "cell_type": "code",
      "metadata": {
        "id": "hI6oGwjYAHjJ",
        "colab_type": "code",
        "colab": {
          "base_uri": "https://localhost:8080/",
          "height": 34
        },
        "outputId": "d7efb232-6968-462d-f81b-190e55df9a04"
      },
      "source": [
        "##Quiz8\n",
        "A = [1, 2, 3, 4, 5] \n",
        "B = [2, 3, 1, 3, 2]\n",
        "AB = map(lambda x, y: y**x, A, B)\n",
        "print(list(AB))"
      ],
      "execution_count": 92,
      "outputs": [
        {
          "output_type": "stream",
          "text": [
            "[2, 9, 1, 81, 32]\n"
          ],
          "name": "stdout"
        }
      ]
    },
    {
      "cell_type": "code",
      "metadata": {
        "id": "76KnsWoKByuE",
        "colab_type": "code",
        "colab": {
          "base_uri": "https://localhost:8080/",
          "height": 34
        },
        "outputId": "f3484fa2-8842-49a1-e55d-77d4875c31ef"
      },
      "source": [
        "student = ['Steve', 'David', 'Gilmour']\n",
        "ID = ['1', '2', '2']\n",
        "score = [89, 79, 99]\n",
        "mapped = list(zip(student, ID, score))\n",
        "mapped"
      ],
      "execution_count": 94,
      "outputs": [
        {
          "output_type": "execute_result",
          "data": {
            "text/plain": [
              "[('Steve', '1', 89), ('David', '2', 79), ('Gilmour', '2', 99)]"
            ]
          },
          "metadata": {
            "tags": []
          },
          "execution_count": 94
        }
      ]
    },
    {
      "cell_type": "code",
      "metadata": {
        "id": "HkoxdNnRCX43",
        "colab_type": "code",
        "colab": {
          "base_uri": "https://localhost:8080/",
          "height": 34
        },
        "outputId": "bab645c8-58bd-4301-df1e-6769f0ef3640"
      },
      "source": [
        "##Quiz9\n",
        "lst = [5, 2, 1, 3, 2] \n",
        "from functools import reduce\n",
        "lst4 = reduce((lambda x, y: x**y), lst)\n",
        "print(lst4)"
      ],
      "execution_count": 97,
      "outputs": [
        {
          "output_type": "stream",
          "text": [
            "244140625\n"
          ],
          "name": "stdout"
        }
      ]
    },
    {
      "cell_type": "code",
      "metadata": {
        "id": "oslj7HGGD01i",
        "colab_type": "code",
        "colab": {
          "base_uri": "https://localhost:8080/",
          "height": 34
        },
        "outputId": "f11d39b6-07f9-493e-e0fb-b07290b3c515"
      },
      "source": [
        "lst = [1,2,3,4,5,6,7,8,9,10] \n",
        "lst5 = reduce((lambda x, y: x*y), lst)\n",
        "print(lst5)"
      ],
      "execution_count": 100,
      "outputs": [
        {
          "output_type": "stream",
          "text": [
            "3628800\n"
          ],
          "name": "stdout"
        }
      ]
    }
  ]
}